{
 "cells": [
  {
   "cell_type": "code",
   "execution_count": 72,
   "metadata": {},
   "outputs": [],
   "source": [
    "import torch\n",
    "import gym \n",
    "from tqdm import tqdm \n",
    "import warnings\n",
    "\n",
    "import matplotlib.pyplot as plt\n",
    "warnings.filterwarnings('ignore')"
   ]
  },
  {
   "cell_type": "markdown",
   "metadata": {},
   "source": [
    "Look at the Acrobot environment (2 joints swinging) \n",
    "https://github.com/openai/gym/blob/master/gym/envs/classic_control/acrobot.py \n",
    "\n",
    "* 3 Discrete actions:  The action is either applying +1, 0 or -1 torque on the joint between\n",
    "\n",
    "* State has dimension 6: sin and cos of joints + angular velocity of joints "
   ]
  },
  {
   "cell_type": "code",
   "execution_count": 54,
   "metadata": {},
   "outputs": [
    {
     "name": "stdout",
     "output_type": "stream",
     "text": [
      "Action space:  Discrete(3)\n",
      "State space:  Box(6,)\n"
     ]
    }
   ],
   "source": [
    "env = gym.make('Acrobot-v1')\n",
    "print('Action space: ', env.action_space) \n",
    "print('State space: ', env.observation_space)"
   ]
  },
  {
   "cell_type": "markdown",
   "metadata": {},
   "source": [
    "TD(0) loss is delta "
   ]
  },
  {
   "cell_type": "code",
   "execution_count": 69,
   "metadata": {},
   "outputs": [],
   "source": [
    "class ValueMLP(torch.nn.Module):\n",
    "    def __init__(self, input_size, l1_size, l2_size, \n",
    "                 lr, output_size=1): \n",
    "        super(ValueMLP, self).__init__()\n",
    "        self.l1 = torch.nn.Linear(input_size, l1_size)\n",
    "        self.l2 = torch.nn.Linear(l1_size, l2_size) \n",
    "        self.out = torch.nn.Linear(l2_size, output_size)\n",
    "        self.optimizer = torch.optim.Adam(self.parameters(), lr=lr)\n",
    "    \n",
    "    def forward(self, x): \n",
    "        l1 = torch.relu(self.l1(x))\n",
    "        l2 = torch.relu(self.l2(l1))\n",
    "        pred = self.out(l2) \n",
    "        return pred \n",
    "    \n",
    "\n",
    "class TDAgent(): \n",
    "    def __init__(self, input_size, l1_size, l2_size, \n",
    "                 lr, gamma, \n",
    "                 iterations, max_steps_per_episode, env=env): \n",
    "        self.input_size = input_size\n",
    "        self.l1_size = l1_size \n",
    "        self.l2_size = l2_size \n",
    "        self.lr = lr \n",
    "        self.gamma = gamma \n",
    "        self.iterations = iterations \n",
    "        self.max_steps_per_episode = max_steps_per_episode\n",
    "        self.cuda0 = torch.device('cuda:0')\n",
    "        self.mlp = ValueMLP(self.input_size, \n",
    "                            self.l1_size, self.l2_size, self.lr) \n",
    "        \n",
    "    \n",
    "    def cuda_tensor(self, val): \n",
    "        return torch.tensor(val, dtype=torch.float32, device=self.cuda0)\n",
    "    \n",
    "    def train(self):\n",
    "        self.mlp.cuda() \n",
    "              \n",
    "        losses = [] \n",
    "        for i in range(self.iterations): \n",
    "            observation = env.reset() \n",
    "            episode_loss = 0 \n",
    "            \n",
    "            for j in range(self.max_steps_per_episode): \n",
    "                # zero out gradients\n",
    "                self.mlp.optimizer.zero_grad() \n",
    "                episode_loss = 0 \n",
    "                \n",
    "                action = env.action_space.sample()\n",
    "                new_obs, reward, done, info = env.step(action)\n",
    "                \n",
    "                # Convert floats to tensor \n",
    "                observation = self.cuda_tensor(observation) \n",
    "                new_obs = self.cuda_tensor(new_obs)\n",
    "                reward = self.cuda_tensor(reward)\n",
    "                \n",
    "                # predict values \n",
    "                value_obs = self.mlp(observation) \n",
    "                value_new_obs = self.mlp(new_obs) \n",
    "                \n",
    "                delta = reward + self.gamma * value_new_obs * (1-done) - value_obs\n",
    "                episode_loss += delta \n",
    "                observation = new_obs \n",
    "                \n",
    "                delta.backward() \n",
    "                self.mlp.optimizer.step() \n",
    "                \n",
    "                if done: \n",
    "                    losses.append(episode_loss.item()) \n",
    "                    if i % 10 == 0: \n",
    "                        print(f'Episode {i} Total steps: {j} Loss: {episode_loss.item()}')\n",
    "                    break\n",
    "        return losses \n",
    "            \n",
    "        \n",
    "        \n",
    "        "
   ]
  },
  {
   "cell_type": "code",
   "execution_count": 70,
   "metadata": {},
   "outputs": [
    {
     "name": "stdout",
     "output_type": "stream",
     "text": [
      "ValueMLP(\n",
      "  (l1): Linear(in_features=6, out_features=1024, bias=True)\n",
      "  (l2): Linear(in_features=1024, out_features=512, bias=True)\n",
      "  (out): Linear(in_features=512, out_features=1, bias=True)\n",
      ")\n",
      "Episode 0 Total steps: 499 Loss: -1.039920449256897\n",
      "Episode 10 Total steps: 499 Loss: -2.198887825012207\n",
      "Episode 20 Total steps: 499 Loss: -4.031208515167236\n",
      "Episode 30 Total steps: 499 Loss: -5.064327239990234\n",
      "Episode 40 Total steps: 499 Loss: -9.616744995117188\n",
      "Episode 50 Total steps: 499 Loss: -15.986920356750488\n",
      "Episode 60 Total steps: 499 Loss: -18.8606014251709\n",
      "Episode 70 Total steps: 499 Loss: -22.787410736083984\n",
      "Episode 80 Total steps: 499 Loss: -22.020475387573242\n",
      "Episode 90 Total steps: 499 Loss: -24.691686630249023\n",
      "Episode 100 Total steps: 499 Loss: -27.42555046081543\n",
      "Episode 110 Total steps: 499 Loss: -32.116607666015625\n",
      "Episode 120 Total steps: 499 Loss: -75.19561004638672\n",
      "Episode 130 Total steps: 499 Loss: -70.4946517944336\n",
      "Episode 140 Total steps: 499 Loss: -53.29037094116211\n",
      "Episode 150 Total steps: 499 Loss: -60.73530960083008\n",
      "Episode 160 Total steps: 499 Loss: -86.55091094970703\n",
      "Episode 170 Total steps: 499 Loss: -64.79914855957031\n",
      "Episode 180 Total steps: 499 Loss: -124.49717712402344\n",
      "Episode 190 Total steps: 499 Loss: -78.95417022705078\n",
      "Episode 200 Total steps: 499 Loss: -76.84818267822266\n",
      "Episode 210 Total steps: 499 Loss: -102.67964935302734\n",
      "Episode 220 Total steps: 499 Loss: -131.57452392578125\n",
      "Episode 230 Total steps: 499 Loss: -178.92042541503906\n",
      "Episode 240 Total steps: 499 Loss: -149.15335083007812\n",
      "Episode 250 Total steps: 499 Loss: -179.09561157226562\n",
      "Episode 260 Total steps: 499 Loss: -162.0695037841797\n",
      "Episode 270 Total steps: 499 Loss: -238.56417846679688\n",
      "Episode 280 Total steps: 499 Loss: -243.00038146972656\n",
      "Episode 290 Total steps: 499 Loss: -306.22772216796875\n",
      "Episode 300 Total steps: 499 Loss: -399.61578369140625\n",
      "Episode 310 Total steps: 499 Loss: -269.03619384765625\n",
      "Episode 320 Total steps: 499 Loss: -293.5657043457031\n",
      "Episode 330 Total steps: 499 Loss: -421.1261291503906\n",
      "Episode 340 Total steps: 499 Loss: -456.6903991699219\n",
      "Episode 350 Total steps: 499 Loss: -636.11962890625\n",
      "Episode 360 Total steps: 499 Loss: -394.31268310546875\n",
      "Episode 370 Total steps: 499 Loss: -607.8297729492188\n",
      "Episode 380 Total steps: 499 Loss: -550.236572265625\n",
      "Episode 390 Total steps: 499 Loss: -526.6748657226562\n",
      "Episode 400 Total steps: 499 Loss: -465.2823486328125\n",
      "Episode 410 Total steps: 499 Loss: -615.9224853515625\n",
      "Episode 420 Total steps: 499 Loss: -750.23828125\n",
      "Episode 430 Total steps: 499 Loss: -520.281494140625\n",
      "Episode 440 Total steps: 499 Loss: -779.0023193359375\n",
      "Episode 450 Total steps: 499 Loss: -542.7344360351562\n",
      "Episode 460 Total steps: 499 Loss: -887.876220703125\n",
      "Episode 470 Total steps: 499 Loss: -861.3113403320312\n",
      "Episode 480 Total steps: 499 Loss: -1069.5999755859375\n",
      "Episode 490 Total steps: 499 Loss: -911.9393920898438\n",
      "Episode 500 Total steps: 499 Loss: -1060.86572265625\n",
      "Episode 510 Total steps: 499 Loss: -1252.81884765625\n",
      "Episode 520 Total steps: 499 Loss: -1219.3533935546875\n",
      "Episode 530 Total steps: 499 Loss: -1907.81787109375\n",
      "Episode 540 Total steps: 499 Loss: -1307.911865234375\n",
      "Episode 550 Total steps: 499 Loss: -1201.5225830078125\n",
      "Episode 560 Total steps: 499 Loss: -1688.4373779296875\n",
      "Episode 570 Total steps: 499 Loss: -1797.1700439453125\n",
      "Episode 580 Total steps: 499 Loss: -1713.394287109375\n",
      "Episode 590 Total steps: 499 Loss: -1858.378173828125\n",
      "Episode 600 Total steps: 499 Loss: -1753.787841796875\n",
      "Episode 610 Total steps: 499 Loss: -2178.8681640625\n",
      "Episode 620 Total steps: 499 Loss: -2533.057861328125\n",
      "Episode 630 Total steps: 499 Loss: -2141.734375\n",
      "Episode 640 Total steps: 499 Loss: -2096.629150390625\n",
      "Episode 650 Total steps: 499 Loss: -2118.231201171875\n",
      "Episode 660 Total steps: 499 Loss: -2767.839599609375\n",
      "Episode 670 Total steps: 499 Loss: -2784.9228515625\n",
      "Episode 680 Total steps: 499 Loss: -3070.421875\n",
      "Episode 690 Total steps: 499 Loss: -2958.1416015625\n",
      "Episode 700 Total steps: 499 Loss: -3216.717041015625\n",
      "Episode 710 Total steps: 499 Loss: -3440.535888671875\n",
      "Episode 720 Total steps: 499 Loss: -5974.8310546875\n",
      "Episode 730 Total steps: 499 Loss: -3919.6767578125\n",
      "Episode 740 Total steps: 499 Loss: -4058.53564453125\n",
      "Episode 750 Total steps: 499 Loss: -4134.859375\n",
      "Episode 760 Total steps: 499 Loss: -3253.88916015625\n",
      "Episode 770 Total steps: 499 Loss: -3809.226318359375\n",
      "Episode 780 Total steps: 499 Loss: -4373.4248046875\n",
      "Episode 790 Total steps: 499 Loss: -5241.12548828125\n",
      "Episode 800 Total steps: 499 Loss: -4729.56298828125\n",
      "Episode 810 Total steps: 499 Loss: -5294.41259765625\n",
      "Episode 820 Total steps: 499 Loss: -5693.8037109375\n",
      "Episode 830 Total steps: 499 Loss: -6320.109375\n",
      "Episode 840 Total steps: 499 Loss: -2275.119140625\n",
      "Episode 850 Total steps: 499 Loss: -4892.95068359375\n",
      "Episode 860 Total steps: 499 Loss: -3896.3349609375\n",
      "Episode 870 Total steps: 499 Loss: -6282.39111328125\n",
      "Episode 880 Total steps: 499 Loss: -4295.458984375\n",
      "Episode 890 Total steps: 499 Loss: -9748.8466796875\n",
      "Episode 900 Total steps: 499 Loss: -6150.4609375\n",
      "Episode 910 Total steps: 499 Loss: -7038.26123046875\n",
      "Episode 920 Total steps: 499 Loss: -10135.90234375\n",
      "Episode 930 Total steps: 499 Loss: -9117.62890625\n",
      "Episode 940 Total steps: 499 Loss: -7155.59033203125\n",
      "Episode 950 Total steps: 499 Loss: -9055.9013671875\n",
      "Episode 960 Total steps: 499 Loss: -10292.166015625\n",
      "Episode 970 Total steps: 499 Loss: -6699.51220703125\n",
      "Episode 980 Total steps: 499 Loss: -10302.6630859375\n",
      "Episode 990 Total steps: 499 Loss: -11578.001953125\n"
     ]
    }
   ],
   "source": [
    "input_size = 6\n",
    "l1_size = 1024 \n",
    "l2_size = 512 \n",
    "lr = 1e-5 \n",
    "gamma = 0.99 \n",
    "iterations = 1000 \n",
    "max_steps_per_episode = 2000 \n",
    "\n",
    "agent = TDAgent(input_size, l1_size, l2_size, lr, gamma, \n",
    "                iterations, max_steps_per_episode)\n",
    "print(agent.mlp) \n",
    "losses = agent.train() "
   ]
  },
  {
   "cell_type": "code",
   "execution_count": 73,
   "metadata": {},
   "outputs": [
    {
     "data": {
      "text/plain": [
       "Text(0, 0.5, 'Loss')"
      ]
     },
     "execution_count": 73,
     "metadata": {},
     "output_type": "execute_result"
    },
    {
     "data": {
      "image/png": "[encoded data removed]",
      "text/plain": [
       "<Figure size 432x288 with 1 Axes>"
      ]
     },
     "metadata": {
      "needs_background": "light"
     },
     "output_type": "display_data"
    }
   ],
   "source": [
    "plt.plot(losses)\n",
    "plt.xlabel('Episode')\n",
    "plt.ylabel('Loss')"
   ]
  },
  {
   "cell_type": "markdown",
   "metadata": {},
   "source": [
    "### Actor Critic "
   ]
  },
  {
   "cell_type": "code",
   "execution_count": null,
   "metadata": {},
   "outputs": [],
   "source": [
    "class ActorMLP(ValueMLP): \n",
    "    def __init__(self, **kwargs):\n",
    "        super(ActorMLP, self).__init__(**kwargs) \n",
    "    \n",
    "    def forward(self, x): \n",
    "        l1 = torch.relu(self.l1(x))\n",
    "        l2 = torch.relu(self.l2(l1))\n",
    "        pred = torch.softmax(self.out(l2)) \n",
    "        \n",
    "\n",
    "class ActorCriticAgent(TDAgent):\n",
    "    def __init__(self, **kwargs): \n",
    "        super(TDAgent, self).__init__(**kwargs)\n",
    "        \n",
    "    def sample_action(self): \n",
    "        pass \n",
    "    \n",
    "    def train(): \n",
    "        actor = ActorMLP(input_size=input_size, l1_size=l1_size, l2_size=l2_size, \n",
    "                         output_size=num_actions, lr=self.lr)\n",
    "        critic = ValueMLP(input_size=input_size, l1_size=l1_size, l2_size=l2_size, \n",
    "                         output_size=1, lr=self.lr)\n",
    "        print(actor)\n",
    "        print(critic) \n",
    "        \n",
    "        actor.cuda() \n",
    "        critic.cuda()\n",
    "        \n",
    "        for i in range(self.iterations): \n",
    "            observation = env.reset() \n",
    "            episode_losses = [] \n",
    "            \n",
    "            for j in range(self.max_steps_per_iteration): \n",
    "                episode_loss = 0 \n",
    "                actor.optimizer.zero_grad() \n",
    "                critic.optimizer.zero_grad() \n",
    "                \n",
    "                observation = self.cuda_tensor(observation) \n",
    "                actor_pred = actor(mlp).item()  \n",
    "                \n",
    "                new_obs, reward, done, info = env.\n",
    "                \n",
    "            \n",
    "        "
   ]
  },
  {
   "cell_type": "code",
   "execution_count": 81,
   "metadata": {},
   "outputs": [
    {
     "data": {
      "text/plain": [
       "0.11894323591065209"
      ]
     },
     "execution_count": 81,
     "metadata": {},
     "output_type": "execute_result"
    }
   ],
   "source": [
    "import numpy as np \n",
    "x = [44, 42, 38]\n",
    "exp_x = [np.exp(i) for i in x]\n",
    "exp_x[1] / sum(exp_x)"
   ]
  },
  {
   "cell_type": "code",
   "execution_count": null,
   "metadata": {},
   "outputs": [],
   "source": []
  }
 ],
 "metadata": {
  "kernelspec": {
   "display_name": "spinningup",
   "language": "python",
   "name": "spinningup"
  },
  "language_info": {
   "codemirror_mode": {
    "name": "ipython",
    "version": 3
   },
   "file_extension": ".py",
   "mimetype": "text/x-python",
   "name": "python",
   "nbconvert_exporter": "python",
   "pygments_lexer": "ipython3",
   "version": "3.6.9"
  }
 },
 "nbformat": 4,
 "nbformat_minor": 4
}
