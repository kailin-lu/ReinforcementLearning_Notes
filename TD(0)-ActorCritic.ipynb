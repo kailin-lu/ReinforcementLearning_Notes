{
 "cells": [
  {
   "cell_type": "code",
   "execution_count": 44,
   "metadata": {},
   "outputs": [],
   "source": [
    "import torch\n",
    "import torch.nn.functional as F\n",
    "import gym \n",
    "from tqdm import tqdm \n",
    "import warnings\n",
    "\n",
    "import matplotlib.pyplot as plt\n",
    "warnings.filterwarnings('ignore')"
   ]
  },
  {
   "cell_type": "markdown",
   "metadata": {},
   "source": [
    "Look at the Acrobot environment (2 joints swinging) \n",
    "https://github.com/openai/gym/blob/master/gym/envs/classic_control/acrobot.py \n",
    "\n",
    "* 3 Discrete actions:  The action is either applying +1, 0 or -1 torque on the joint between\n",
    "\n",
    "* State has dimension 6: sin and cos of joints + angular velocity of joints "
   ]
  },
  {
   "cell_type": "code",
   "execution_count": 3,
   "metadata": {},
   "outputs": [
    {
     "name": "stdout",
     "output_type": "stream",
     "text": [
      "Action space:  Discrete(3)\n",
      "State space:  Box(6,)\n"
     ]
    }
   ],
   "source": [
    "env = gym.make('Acrobot-v1')\n",
    "print('Action space: ', env.action_space) \n",
    "print('State space: ', env.observation_space)"
   ]
  },
  {
   "cell_type": "markdown",
   "metadata": {},
   "source": [
    "TD(0) loss is delta "
   ]
  },
  {
   "cell_type": "code",
   "execution_count": 4,
   "metadata": {},
   "outputs": [],
   "source": [
    "class ValueMLP(torch.nn.Module):\n",
    "    def __init__(self, input_size, l1_size, l2_size, \n",
    "                 lr, output_size=1): \n",
    "        super(ValueMLP, self).__init__()\n",
    "        self.l1 = torch.nn.Linear(input_size, l1_size)\n",
    "        self.l2 = torch.nn.Linear(l1_size, l2_size) \n",
    "        self.out = torch.nn.Linear(l2_size, output_size)\n",
    "        self.optimizer = torch.optim.Adam(self.parameters(), lr=lr)\n",
    "    \n",
    "    def forward(self, x): \n",
    "        l1 = torch.relu(self.l1(x))\n",
    "        l2 = torch.relu(self.l2(l1))\n",
    "        pred = self.out(l2) \n",
    "        return pred \n",
    "    \n",
    "\n",
    "class TDAgent(): \n",
    "    def __init__(self, input_size, l1_size, l2_size, \n",
    "                 lr, gamma, \n",
    "                 iterations, max_steps_per_episode, env=env): \n",
    "        self.input_size = input_size\n",
    "        self.l1_size = l1_size \n",
    "        self.l2_size = l2_size \n",
    "        self.lr = lr \n",
    "        self.gamma = gamma \n",
    "        self.iterations = iterations \n",
    "        self.max_steps_per_episode = max_steps_per_episode\n",
    "        self.cuda0 = torch.device('cuda:0')\n",
    "        self.mlp = ValueMLP(self.input_size, \n",
    "                            self.l1_size, self.l2_size, self.lr) \n",
    "        \n",
    "    \n",
    "    def cuda_tensor(self, val): \n",
    "        return torch.tensor(val, dtype=torch.float32, device=self.cuda0)\n",
    "    \n",
    "    def train(self):\n",
    "        self.mlp.cuda() \n",
    "              \n",
    "        losses = [] \n",
    "        for i in range(self.iterations): \n",
    "            observation = env.reset() \n",
    "            episode_loss = 0 \n",
    "            \n",
    "            for j in range(self.max_steps_per_episode): \n",
    "                # zero out gradients\n",
    "                self.mlp.optimizer.zero_grad() \n",
    "                episode_loss = 0 \n",
    "                \n",
    "                action = env.action_space.sample()\n",
    "                new_obs, reward, done, info = env.step(action)\n",
    "                \n",
    "                # Convert floats to tensor \n",
    "                observation = self.cuda_tensor(observation) \n",
    "                new_obs = self.cuda_tensor(new_obs)\n",
    "                reward = self.cuda_tensor(reward)\n",
    "                \n",
    "                # predict values \n",
    "                value_obs = self.mlp(observation) \n",
    "                value_new_obs = self.mlp(new_obs) \n",
    "                \n",
    "                # square delta for MSE \n",
    "                delta = (reward + self.gamma * value_new_obs * (1-done) - value_obs) ** 2\n",
    "                episode_loss += delta \n",
    "                observation = new_obs \n",
    "                \n",
    "                delta.backward() \n",
    "                self.mlp.optimizer.step() \n",
    "                \n",
    "                if done: \n",
    "                    losses.append(episode_loss.item()) \n",
    "                    if i % 10 == 0: \n",
    "                        print(f'Episode {i} Total steps: {j} Loss: {episode_loss.item()}')\n",
    "                    break\n",
    "        return losses \n",
    "            \n",
    "        \n",
    "        \n",
    "        "
   ]
  },
  {
   "cell_type": "code",
   "execution_count": 5,
   "metadata": {},
   "outputs": [],
   "source": [
    "input_size = 6\n",
    "l1_size = 1024 \n",
    "l2_size = 512 \n",
    "lr = 1e-5 \n",
    "gamma = 0.99 \n",
    "iterations = 1000 \n",
    "max_steps_per_episode = 2000 "
   ]
  },
  {
   "cell_type": "code",
   "execution_count": 70,
   "metadata": {},
   "outputs": [
    {
     "name": "stdout",
     "output_type": "stream",
     "text": [
      "ValueMLP(\n",
      "  (l1): Linear(in_features=6, out_features=1024, bias=True)\n",
      "  (l2): Linear(in_features=1024, out_features=512, bias=True)\n",
      "  (out): Linear(in_features=512, out_features=1, bias=True)\n",
      ")\n",
      "Episode 0 Total steps: 499 Loss: -1.039920449256897\n",
      "Episode 10 Total steps: 499 Loss: -2.198887825012207\n",
      "Episode 20 Total steps: 499 Loss: -4.031208515167236\n",
      "Episode 30 Total steps: 499 Loss: -5.064327239990234\n",
      "Episode 40 Total steps: 499 Loss: -9.616744995117188\n",
      "Episode 50 Total steps: 499 Loss: -15.986920356750488\n",
      "Episode 60 Total steps: 499 Loss: -18.8606014251709\n",
      "Episode 70 Total steps: 499 Loss: -22.787410736083984\n",
      "Episode 80 Total steps: 499 Loss: -22.020475387573242\n",
      "Episode 90 Total steps: 499 Loss: -24.691686630249023\n",
      "Episode 100 Total steps: 499 Loss: -27.42555046081543\n",
      "Episode 110 Total steps: 499 Loss: -32.116607666015625\n",
      "Episode 120 Total steps: 499 Loss: -75.19561004638672\n",
      "Episode 130 Total steps: 499 Loss: -70.4946517944336\n",
      "Episode 140 Total steps: 499 Loss: -53.29037094116211\n",
      "Episode 150 Total steps: 499 Loss: -60.73530960083008\n",
      "Episode 160 Total steps: 499 Loss: -86.55091094970703\n",
      "Episode 170 Total steps: 499 Loss: -64.79914855957031\n",
      "Episode 180 Total steps: 499 Loss: -124.49717712402344\n",
      "Episode 190 Total steps: 499 Loss: -78.95417022705078\n",
      "Episode 200 Total steps: 499 Loss: -76.84818267822266\n",
      "Episode 210 Total steps: 499 Loss: -102.67964935302734\n",
      "Episode 220 Total steps: 499 Loss: -131.57452392578125\n",
      "Episode 230 Total steps: 499 Loss: -178.92042541503906\n",
      "Episode 240 Total steps: 499 Loss: -149.15335083007812\n",
      "Episode 250 Total steps: 499 Loss: -179.09561157226562\n",
      "Episode 260 Total steps: 499 Loss: -162.0695037841797\n",
      "Episode 270 Total steps: 499 Loss: -238.56417846679688\n",
      "Episode 280 Total steps: 499 Loss: -243.00038146972656\n",
      "Episode 290 Total steps: 499 Loss: -306.22772216796875\n",
      "Episode 300 Total steps: 499 Loss: -399.61578369140625\n",
      "Episode 310 Total steps: 499 Loss: -269.03619384765625\n",
      "Episode 320 Total steps: 499 Loss: -293.5657043457031\n",
      "Episode 330 Total steps: 499 Loss: -421.1261291503906\n",
      "Episode 340 Total steps: 499 Loss: -456.6903991699219\n",
      "Episode 350 Total steps: 499 Loss: -636.11962890625\n",
      "Episode 360 Total steps: 499 Loss: -394.31268310546875\n",
      "Episode 370 Total steps: 499 Loss: -607.8297729492188\n",
      "Episode 380 Total steps: 499 Loss: -550.236572265625\n",
      "Episode 390 Total steps: 499 Loss: -526.6748657226562\n",
      "Episode 400 Total steps: 499 Loss: -465.2823486328125\n",
      "Episode 410 Total steps: 499 Loss: -615.9224853515625\n",
      "Episode 420 Total steps: 499 Loss: -750.23828125\n",
      "Episode 430 Total steps: 499 Loss: -520.281494140625\n",
      "Episode 440 Total steps: 499 Loss: -779.0023193359375\n",
      "Episode 450 Total steps: 499 Loss: -542.7344360351562\n",
      "Episode 460 Total steps: 499 Loss: -887.876220703125\n",
      "Episode 470 Total steps: 499 Loss: -861.3113403320312\n",
      "Episode 480 Total steps: 499 Loss: -1069.5999755859375\n",
      "Episode 490 Total steps: 499 Loss: -911.9393920898438\n",
      "Episode 500 Total steps: 499 Loss: -1060.86572265625\n",
      "Episode 510 Total steps: 499 Loss: -1252.81884765625\n",
      "Episode 520 Total steps: 499 Loss: -1219.3533935546875\n",
      "Episode 530 Total steps: 499 Loss: -1907.81787109375\n",
      "Episode 540 Total steps: 499 Loss: -1307.911865234375\n",
      "Episode 550 Total steps: 499 Loss: -1201.5225830078125\n",
      "Episode 560 Total steps: 499 Loss: -1688.4373779296875\n",
      "Episode 570 Total steps: 499 Loss: -1797.1700439453125\n",
      "Episode 580 Total steps: 499 Loss: -1713.394287109375\n",
      "Episode 590 Total steps: 499 Loss: -1858.378173828125\n",
      "Episode 600 Total steps: 499 Loss: -1753.787841796875\n",
      "Episode 610 Total steps: 499 Loss: -2178.8681640625\n",
      "Episode 620 Total steps: 499 Loss: -2533.057861328125\n",
      "Episode 630 Total steps: 499 Loss: -2141.734375\n",
      "Episode 640 Total steps: 499 Loss: -2096.629150390625\n",
      "Episode 650 Total steps: 499 Loss: -2118.231201171875\n",
      "Episode 660 Total steps: 499 Loss: -2767.839599609375\n",
      "Episode 670 Total steps: 499 Loss: -2784.9228515625\n",
      "Episode 680 Total steps: 499 Loss: -3070.421875\n",
      "Episode 690 Total steps: 499 Loss: -2958.1416015625\n",
      "Episode 700 Total steps: 499 Loss: -3216.717041015625\n",
      "Episode 710 Total steps: 499 Loss: -3440.535888671875\n",
      "Episode 720 Total steps: 499 Loss: -5974.8310546875\n",
      "Episode 730 Total steps: 499 Loss: -3919.6767578125\n",
      "Episode 740 Total steps: 499 Loss: -4058.53564453125\n",
      "Episode 750 Total steps: 499 Loss: -4134.859375\n",
      "Episode 760 Total steps: 499 Loss: -3253.88916015625\n",
      "Episode 770 Total steps: 499 Loss: -3809.226318359375\n",
      "Episode 780 Total steps: 499 Loss: -4373.4248046875\n",
      "Episode 790 Total steps: 499 Loss: -5241.12548828125\n",
      "Episode 800 Total steps: 499 Loss: -4729.56298828125\n",
      "Episode 810 Total steps: 499 Loss: -5294.41259765625\n",
      "Episode 820 Total steps: 499 Loss: -5693.8037109375\n",
      "Episode 830 Total steps: 499 Loss: -6320.109375\n",
      "Episode 840 Total steps: 499 Loss: -2275.119140625\n",
      "Episode 850 Total steps: 499 Loss: -4892.95068359375\n",
      "Episode 860 Total steps: 499 Loss: -3896.3349609375\n",
      "Episode 870 Total steps: 499 Loss: -6282.39111328125\n",
      "Episode 880 Total steps: 499 Loss: -4295.458984375\n",
      "Episode 890 Total steps: 499 Loss: -9748.8466796875\n",
      "Episode 900 Total steps: 499 Loss: -6150.4609375\n",
      "Episode 910 Total steps: 499 Loss: -7038.26123046875\n",
      "Episode 920 Total steps: 499 Loss: -10135.90234375\n",
      "Episode 930 Total steps: 499 Loss: -9117.62890625\n",
      "Episode 940 Total steps: 499 Loss: -7155.59033203125\n",
      "Episode 950 Total steps: 499 Loss: -9055.9013671875\n",
      "Episode 960 Total steps: 499 Loss: -10292.166015625\n",
      "Episode 970 Total steps: 499 Loss: -6699.51220703125\n",
      "Episode 980 Total steps: 499 Loss: -10302.6630859375\n",
      "Episode 990 Total steps: 499 Loss: -11578.001953125\n"
     ]
    }
   ],
   "source": [
    "agent = TDAgent(input_size, l1_size, l2_size, lr, gamma, \n",
    "                iterations, max_steps_per_episode)\n",
    "print(agent.mlp) \n",
    "losses = agent.train() "
   ]
  },
  {
   "cell_type": "code",
   "execution_count": 73,
   "metadata": {},
   "outputs": [
    {
     "data": {
      "text/plain": [
       "Text(0, 0.5, 'Loss')"
      ]
     },
     "execution_count": 73,
     "metadata": {},
     "output_type": "execute_result"
    },
    {
     "data": {
      "image/png": "[encoded data removed]",
      "text/plain": [
       "<Figure size 432x288 with 1 Axes>"
      ]
     },
     "metadata": {
      "needs_background": "light"
     },
     "output_type": "display_data"
    }
   ],
   "source": [
    "plt.plot(losses)\n",
    "plt.xlabel('Episode')\n",
    "plt.ylabel('Loss')"
   ]
  },
  {
   "cell_type": "markdown",
   "metadata": {},
   "source": [
    "### Actor Critic "
   ]
  },
  {
   "cell_type": "code",
   "execution_count": 74,
   "metadata": {},
   "outputs": [],
   "source": [
    "class ActorMLP(ValueMLP): \n",
    "    def __init__(self, **kwargs):\n",
    "        super().__init__(**kwargs) \n",
    "        \n",
    "    def forward(self, x): \n",
    "        l1 = torch.relu(self.l1(x))\n",
    "        l2 = torch.relu(self.l2(l1))\n",
    "        logits = self.out(l2) \n",
    "        pred = F.softmax(logits)\n",
    "        return pred \n",
    "        \n",
    "\n",
    "class ActorCriticAgent(TDAgent):\n",
    "    def __init__(self, num_actions, actor_lr, critic_lr, **kwargs): \n",
    "        super().__init__(lr=actor_lr, **kwargs)\n",
    "        self.num_actions = num_actions \n",
    "        self.actor_lr = actor_lr \n",
    "        self.critic_lr = critic_lr \n",
    "        self.actor = ActorMLP(input_size=self.input_size, \n",
    "                         l1_size=self.l1_size, l2_size=self.l2_size, \n",
    "                         output_size=self.num_actions, lr=self.actor_lr)\n",
    "        self.critic = ValueMLP(input_size=self.input_size, \n",
    "                          l1_size=self.l1_size, l2_size=self.l2_size, \n",
    "                          output_size=1, lr=self.critic_lr)\n",
    "        self.actor.cuda() \n",
    "        self.critic.cuda() \n",
    "        \n",
    "        self.episode_losses = [] \n",
    "        print(self.actor) \n",
    "        print(self.critic)\n",
    "        \n",
    "    def sample_action(self, pred): \n",
    "        \"\"\"Return an action as a int value, log_prob as a tensor\"\"\"\n",
    "        dist = torch.distributions.Categorical(probs=pred)\n",
    "        action = dist.sample() \n",
    "        log_prob = dist.log_prob(action) \n",
    "        return action.item(), log_prob \n",
    "    \n",
    "    def train(self): \n",
    "        # Loop over episodes \n",
    "        for i in range(self.iterations):\n",
    "            # Reset environment and get starting state \n",
    "            observation = env.reset() \n",
    "            # Cast observation to a cuda tensor \n",
    "            observation = self.cuda_tensor(observation) \n",
    "            \n",
    "            for j in range(self.max_steps_per_episode): \n",
    "                action_pred = self.actor(observation)\n",
    "\n",
    "                # Sample an action \n",
    "                action, log_prob = self.sample_action(action_pred.data)  \n",
    "\n",
    "                # Take a step \n",
    "                new_obs, reward, done, info = env.step(action) \n",
    "                new_obs = self.cuda_tensor(new_obs) \n",
    "                reward = self.cuda_tensor(reward) \n",
    "    \n",
    "                # Use critic to estimate value\n",
    "                value_obs = self.critic(observation)\n",
    "                value_new_obs = self.critic(new_obs) \n",
    "\n",
    "                # Critic loss is TD loss \n",
    "                delta = reward - self.gamma * value_new_obs * (1-done) - value_obs \n",
    "\n",
    "                actor_loss = -log_prob * delta \n",
    "                critic_loss = delta ** 2 \n",
    "                # try to keep both losses negative so they don't cancel out? \n",
    "                loss = torch.abs(actor_loss) * -1 + critic_loss * -1 \n",
    "                \n",
    "                # Take gradients and update\n",
    "                loss.backward()  \n",
    "                self.actor.optimizer.step() \n",
    "                self.critic.optimizer.step() \n",
    "                \n",
    "                # Update new observation to be current observation \n",
    "                observation = new_obs \n",
    "                \n",
    "                # Print out loss info every 10 episodes \n",
    "                if done: \n",
    "                    self.episode_losses.append(loss.item())\n",
    "                    if i % 50 == 0: \n",
    "                        print(f'Episode {i} Steps: {j} Loss: {loss.item()}')\n",
    "                    break\n",
    "                \n"
   ]
  },
  {
   "cell_type": "code",
   "execution_count": 75,
   "metadata": {},
   "outputs": [
    {
     "name": "stdout",
     "output_type": "stream",
     "text": [
      "ActorMLP(\n",
      "  (l1): Linear(in_features=6, out_features=1024, bias=True)\n",
      "  (l2): Linear(in_features=1024, out_features=512, bias=True)\n",
      "  (out): Linear(in_features=512, out_features=3, bias=True)\n",
      ")\n",
      "ValueMLP(\n",
      "  (l1): Linear(in_features=6, out_features=1024, bias=True)\n",
      "  (l2): Linear(in_features=1024, out_features=512, bias=True)\n",
      "  (out): Linear(in_features=512, out_features=1, bias=True)\n",
      ")\n",
      "Episode 0 Steps: 499 Loss: -518.16015625\n",
      "Episode 50 Steps: 499 Loss: -2183273216.0\n",
      "Episode 100 Steps: 499 Loss: -38856282112.0\n",
      "Episode 150 Steps: 499 Loss: -154144096256.0\n",
      "Episode 200 Steps: 499 Loss: -656478437376.0\n",
      "Episode 250 Steps: 499 Loss: -1382188974080.0\n",
      "Episode 300 Steps: 499 Loss: -11583826690048.0\n",
      "Episode 350 Steps: 499 Loss: -6209440055296.0\n",
      "Episode 400 Steps: 499 Loss: -49634013609984.0\n",
      "Episode 450 Steps: 499 Loss: -110419523928064.0\n",
      "Episode 500 Steps: 499 Loss: -216729770786816.0\n",
      "Episode 550 Steps: 499 Loss: -179777214349312.0\n",
      "Episode 600 Steps: 499 Loss: -224709836800000.0\n",
      "Episode 650 Steps: 499 Loss: -681412332093440.0\n",
      "Episode 700 Steps: 499 Loss: -3513274389757952.0\n",
      "Episode 750 Steps: 499 Loss: -3184572489531392.0\n",
      "Episode 800 Steps: 499 Loss: -3339472364109824.0\n",
      "Episode 850 Steps: 499 Loss: -3775837014851584.0\n",
      "Episode 900 Steps: 499 Loss: -4530067363332096.0\n",
      "Episode 950 Steps: 499 Loss: -4685568801767424.0\n",
      "Episode 1000 Steps: 499 Loss: -1.855063161883853e+16\n",
      "Episode 1050 Steps: 499 Loss: -3.926506346643456e+16\n",
      "Episode 1100 Steps: 499 Loss: -6246573054885888.0\n",
      "Episode 1150 Steps: 499 Loss: -2.1365224619638784e+16\n",
      "Episode 1200 Steps: 499 Loss: -6.182298761927066e+16\n",
      "Episode 1250 Steps: 499 Loss: -4.495376482985574e+16\n",
      "Episode 1300 Steps: 499 Loss: -2.2710397639327744e+16\n",
      "Episode 1350 Steps: 499 Loss: -7840956720087040.0\n",
      "Episode 1400 Steps: 499 Loss: -4.790156838882509e+16\n",
      "Episode 1450 Steps: 499 Loss: -5.06807214669824e+16\n",
      "Episode 1500 Steps: 499 Loss: -9.838143141524275e+16\n",
      "Episode 1550 Steps: 499 Loss: -6.643739740287795e+16\n",
      "Episode 1600 Steps: 499 Loss: -9.473771001033523e+16\n",
      "Episode 1650 Steps: 499 Loss: -7.028586419375309e+16\n",
      "Episode 1700 Steps: 499 Loss: -9.09630006928343e+16\n",
      "Episode 1750 Steps: 499 Loss: -1.2437455631076557e+17\n",
      "Episode 1800 Steps: 499 Loss: -1.0952344416446054e+17\n",
      "Episode 1850 Steps: 499 Loss: -1.2722845040980787e+17\n",
      "Episode 1900 Steps: 499 Loss: -2.7924068318366925e+17\n",
      "Episode 1950 Steps: 499 Loss: -4.186448504815616e+16\n",
      "Episode 2000 Steps: 499 Loss: -1.8510628722940314e+17\n",
      "Episode 2050 Steps: 499 Loss: -2.5752471005980262e+17\n",
      "Episode 2100 Steps: 499 Loss: -1.9916124128804864e+17\n",
      "Episode 2150 Steps: 499 Loss: -2.2877342588626534e+17\n",
      "Episode 2200 Steps: 499 Loss: -3.284470068024443e+17\n",
      "Episode 2250 Steps: 499 Loss: -3.735300071982367e+17\n",
      "Episode 2300 Steps: 499 Loss: -3.83408088381653e+17\n",
      "Episode 2350 Steps: 499 Loss: -4.033821258494771e+17\n",
      "Episode 2400 Steps: 499 Loss: -2.8817735907540992e+17\n",
      "Episode 2450 Steps: 499 Loss: -4.252433032276869e+17\n"
     ]
    }
   ],
   "source": [
    "ac_agent = ActorCriticAgent(num_actions=3, input_size=input_size, \n",
    "                            l1_size=l1_size, l2_size=l2_size, \n",
    "                            actor_lr=lr, critic_lr=lr,\n",
    "                            gamma=gamma, iterations=2500, \n",
    "                            max_steps_per_episode=max_steps_per_episode) \n",
    "\n",
    "ac_losses = ac_agent.train()"
   ]
  },
  {
   "cell_type": "code",
   "execution_count": 76,
   "metadata": {},
   "outputs": [
    {
     "data": {
      "text/plain": [
       "[<matplotlib.lines.Line2D at 0x7fd2b00377f0>]"
      ]
     },
     "execution_count": 76,
     "metadata": {},
     "output_type": "execute_result"
    },
    {
     "data": {
      "image/png": "[encoded data removed]",
      "text/plain": [
       "<Figure size 432x288 with 1 Axes>"
      ]
     },
     "metadata": {
      "needs_background": "light"
     },
     "output_type": "display_data"
    }
   ],
   "source": [
    "plt.plot(ac_agent.episode_losses)"
   ]
  },
  {
   "cell_type": "code",
   "execution_count": 86,
   "metadata": {},
   "outputs": [],
   "source": [
    "import time \n",
    "\n",
    "obs = env.reset() \n",
    "actor_agent = ac_agent.actor.eval() \n",
    "\n",
    "for _ in range(500): \n",
    "    obs = ac_agent.cuda_tensor(obs)\n",
    "    action_dist = ac_agent.actor(obs) \n",
    "    action, _ = ac_agent.sample_action(action_dist) \n",
    "    \n",
    "    obs, reward, done, info = env.step(action)\n",
    "    env.render() \n",
    "    env.step(action) \n",
    "    \n",
    "    if done: \n",
    "        break \n",
    "    time.sleep(0.05)\n",
    "    \n",
    "env.close() "
   ]
  },
  {
   "cell_type": "code",
   "execution_count": null,
   "metadata": {},
   "outputs": [],
   "source": []
  }
 ],
 "metadata": {
  "kernelspec": {
   "display_name": "spinningup",
   "language": "python",
   "name": "spinningup"
  },
  "language_info": {
   "codemirror_mode": {
    "name": "ipython",
    "version": 3
   },
   "file_extension": ".py",
   "mimetype": "text/x-python",
   "name": "python",
   "nbconvert_exporter": "python",
   "pygments_lexer": "ipython3",
   "version": "3.6.9"
  }
 },
 "nbformat": 4,
 "nbformat_minor": 4
}
